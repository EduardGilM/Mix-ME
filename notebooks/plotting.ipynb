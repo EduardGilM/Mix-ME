{
 "cells": [
  {
   "cell_type": "code",
   "execution_count": null,
   "metadata": {},
   "outputs": [],
   "source": [
    "import pandas as pd\n",
    "import matplotlib.pyplot as plt\n",
    "import numpy as np\n",
    "import seaborn as sns\n",
    "import os\n",
    "import sys"
   ]
  },
  {
   "cell_type": "code",
   "execution_count": null,
   "metadata": {},
   "outputs": [],
   "source": [
    "# Read in the two csv files\n",
    "df1 = pd.read_csv(\"mapelites-logs_sa_ant.csv\")\n",
    "df2 = pd.read_csv(\"mapelites-logs_ma_ant.csv\")\n"
   ]
  },
  {
   "cell_type": "code",
   "execution_count": null,
   "metadata": {},
   "outputs": [],
   "source": [
    "# Plot qd scores\n",
    "plt.figure(figsize=(10, 5))\n",
    "plt.plot(df1[\"qd_score\"], label=\"Single-agent\")\n",
    "plt.plot(df2[\"qd_score\"], label=\"Multi-agent\")\n",
    "plt.xlabel(\"Generations\")\n",
    "plt.ylabel(\"QD score\")\n",
    "plt.legend()\n",
    "plt.title(\"'ant_uni': QD score over generations\")"
   ]
  },
  {
   "cell_type": "code",
   "execution_count": null,
   "metadata": {},
   "outputs": [],
   "source": [
    "# Plot qd scores\n",
    "plt.figure(figsize=(10, 5))\n",
    "plt.plot(df1[\"coverage\"], label=\"Single-agent\")\n",
    "plt.plot(df2[\"coverage\"], label=\"Multi-agent\")\n",
    "plt.xlabel(\"Generations\")\n",
    "plt.ylabel(\"QD score\")\n",
    "plt.legend()\n",
    "plt.title(\"'ant_uni': Coverage score over generations\")"
   ]
  },
  {
   "cell_type": "code",
   "execution_count": null,
   "metadata": {},
   "outputs": [],
   "source": []
  }
 ],
 "metadata": {
  "language_info": {
   "name": "python"
  }
 },
 "nbformat": 4,
 "nbformat_minor": 2
}
